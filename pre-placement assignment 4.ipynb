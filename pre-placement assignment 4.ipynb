{
 "cells": [
  {
   "cell_type": "markdown",
   "id": "3d496925-0b51-4714-8acf-3e2234c2c8ae",
   "metadata": {},
   "source": [
    "## 1.find commaon elements "
   ]
  },
  {
   "cell_type": "code",
   "execution_count": 3,
   "id": "ead45bc4-f7a6-4d3d-bc9f-4838de79d27b",
   "metadata": {},
   "outputs": [
    {
     "name": "stdout",
     "output_type": "stream",
     "text": [
      "[1, 5]\n"
     ]
    }
   ],
   "source": [
    "def findCommonElements(arr1,arr2,arr3):\n",
    "    p1=p2=p3= 0\n",
    "    result =[]\n",
    "    \n",
    "    while p1 < len(arr2) and p2 < len(arr2) and p3 < len(arr3):\n",
    "        if arr1[p1] == arr2[p2] == arr3[p3]:\n",
    "            result.append(arr1[p1])\n",
    "            p1 +=1\n",
    "            p2 +=1\n",
    "            p3 += 1\n",
    "        elif arr1[p1] <= arr2[p2] and arr1[p1] <= arr3[p3]:\n",
    "            p1 += 1\n",
    "        elif arr2[p2] <= arr2[p2] and arr2[p2] <=arr3[p3]:\n",
    "            p2 += 1\n",
    "        else:\n",
    "            p3 += 1\n",
    "            \n",
    "    return result\n",
    "\n",
    "arr1 = [1,2,3,4,5]\n",
    "arr2 = [1,2,5,7,9]\n",
    "arr3 = [1,3,4,5,8]\n",
    "result =findCommonElements(arr1,arr2,arr3)\n",
    "print(result)"
   ]
  },
  {
   "cell_type": "code",
   "execution_count": null,
   "id": "8219b98d-f3a9-48b5-a496-21dbb34dee09",
   "metadata": {},
   "outputs": [],
   "source": [
    "-Intialize three pointers 'p1','p2', and 'p3'to 0,pointing to the first element of 'arr1','arr2' and 'arr3' respectively,\n",
    "-Intialize an empty list 'result' to store  the common integers.\n",
    "-Iterate until any of the pointers reaches the end of its respective array:\n",
    "    ~check if the values at 'arr[p1]','arr[p2]', and 'arr[p3]' are equal.If they aare,add the value to 'result' since it \n",
    "      appears in all three rrays.\n",
    "    ~Increment the pointers for the array(s) with the  smallest value among 'arr[p1]','arr[p2]', and 'arr[p3]'.\n",
    "-Return the 'result' list."
   ]
  },
  {
   "cell_type": "markdown",
   "id": "6d33b334-a12a-4133-b8fb-d3bc3e440adf",
   "metadata": {},
   "source": [
    "## 2.find distinct integers"
   ]
  },
  {
   "cell_type": "code",
   "execution_count": 4,
   "id": "c3145a37-a30f-4edf-af9a-d99d3eda3852",
   "metadata": {},
   "outputs": [
    {
     "name": "stdout",
     "output_type": "stream",
     "text": [
      "[[1, 3], [4, 6]]\n"
     ]
    }
   ],
   "source": [
    "def findDistinctIntegers(nums1,nums2):\n",
    "    set1 = set(nums1)\n",
    "    set2 = set(nums2)\n",
    "    \n",
    "    distinct_nums1 = list(set1 - set2)\n",
    "    distinct_nums2 = list(set2 - set1)\n",
    "    \n",
    "    \n",
    "    return [distinct_nums1, distinct_nums2]\n",
    "\n",
    "\n",
    "nums1 = [1,2,3]\n",
    "nums2 = [2,4,6]\n",
    "result = findDistinctIntegers(nums1,nums2)\n",
    "print(result)"
   ]
  },
  {
   "cell_type": "code",
   "execution_count": null,
   "id": "e44f6167-35ec-471b-aaef-552fd4954fe7",
   "metadata": {},
   "outputs": [],
   "source": [
    "-Convert 'nums1' and 'nums2' into sets, 'set1' and 'set2', respectively.\n",
    "-Find the set difference between 'set1' and 'set2', which gives the distinct integers in 'nums1' but not in 'nums2'.Store\n",
    " the result in 'distinct_nums1'.\n",
    "-Find the set difference between 'set2' and 'set1'. which gives the distinct integers in 'nums2' but not in 'nums1'.Store\n",
    " the result in 'distinct_nums2'.\n",
    "-Convert 'distinct_nums1' and 'distinct_nums2' back to lists.\n",
    "-Return the list '[distinct_nums1,distinct_nums2]'."
   ]
  },
  {
   "cell_type": "markdown",
   "id": "0ad4cee0-3ad3-485e-81f4-4bb04dcb2219",
   "metadata": {},
   "source": [
    "## 3.transpose"
   ]
  },
  {
   "cell_type": "code",
   "execution_count": 5,
   "id": "00034b4f-2c54-41df-a2d5-b1008cb38866",
   "metadata": {},
   "outputs": [
    {
     "name": "stdout",
     "output_type": "stream",
     "text": [
      "[[1, 4, 7], [2, 5, 8], [3, 6, 9]]\n"
     ]
    }
   ],
   "source": [
    "def transpose(matrix):\n",
    "    n_rows = len(matrix)\n",
    "    n_cols = len(matrix[0])\n",
    "    \n",
    "    transposed = [[0]* n_rows for _ in range(n_cols)]\n",
    "    \n",
    "    for i in range(n_rows):\n",
    "        for j in range(n_cols):\n",
    "            transposed[j][i] = matrix[i][j]\n",
    "            \n",
    "    return transposed\n",
    "\n",
    "matrix = [[1,2,3],[4,5,6],[7,8,9]]\n",
    "result = transpose(matrix)\n",
    "print(result)"
   ]
  },
  {
   "cell_type": "markdown",
   "id": "88e00258-4835-4a8b-ae9a-9539296313bb",
   "metadata": {},
   "source": [
    "## 4.array pair sum"
   ]
  },
  {
   "cell_type": "code",
   "execution_count": 6,
   "id": "c565e4dc-0411-4cc8-9101-6c3ef8e0bd5b",
   "metadata": {},
   "outputs": [
    {
     "name": "stdout",
     "output_type": "stream",
     "text": [
      "4\n"
     ]
    }
   ],
   "source": [
    "def arrayPairSum(nus):\n",
    "    nums.sort()\n",
    "    max_sum = 0\n",
    "    for i in range(0,len(nums),2):\n",
    "        max_sum += nums[i]\n",
    "    return max_sum\n",
    "\n",
    "nums = [1,4,3,2]\n",
    "result = arrayPairSum(nums)\n",
    "print(result)"
   ]
  },
  {
   "cell_type": "code",
   "execution_count": null,
   "id": "258a78f4-20de-4dbf-962d-c0a9d17fa3e7",
   "metadata": {},
   "outputs": [],
   "source": [
    "-Sort the input array 'nums' in non-decreasing order.\n",
    "-Intialize a variable 'max_sum' to 0 to keep track of the maximum sum.\n",
    "-Iterate over the array starting from index 0 witha step size of 2.\n",
    "-For each iteraiton, add the value at the current index to 'max_sum'.\n",
    "-Return 'max_sum'."
   ]
  },
  {
   "cell_type": "markdown",
   "id": "6f7e3683-dcc9-4acb-9bae-c2383960f4cf",
   "metadata": {},
   "source": [
    "## 5.arrange coins"
   ]
  },
  {
   "cell_type": "code",
   "execution_count": 7,
   "id": "6e62c90e-3890-4223-8793-ec25fe5684e5",
   "metadata": {},
   "outputs": [
    {
     "name": "stdout",
     "output_type": "stream",
     "text": [
      "2\n"
     ]
    }
   ],
   "source": [
    "def arrangeCoins(n):\n",
    "    k = 0\n",
    "    total = 0\n",
    "    while total <=n:\n",
    "        k += 1\n",
    "        total += k\n",
    "    return k-1\n",
    "\n",
    "n = 5\n",
    "result = arrangeCoins(n)\n",
    "print(result)"
   ]
  },
  {
   "cell_type": "code",
   "execution_count": null,
   "id": "f66b1879-bae6-40f8-ae8d-fd800d5918dd",
   "metadata": {},
   "outputs": [],
   "source": [
    "-Intialize a variable 'k'k to 0 to keep track of the number of complete rows.\n",
    "-Intialize a variable 'total' to 0to keep track of the total number of coins used.\n",
    "-Iterate while 'total' is less than or equal to 'n':\n",
    "    ~Increment 'k' by 1.\n",
    "    ~Add 'k' to 'total'.\n",
    "-Decrement 'k' by 1 to account for the incomplete row.\n",
    "-Return the value of 'k' as the number of complete rows."
   ]
  },
  {
   "cell_type": "markdown",
   "id": "a08faab3-9da3-4472-ac6f-29a4cc03ffab",
   "metadata": {},
   "source": [
    "## 6.sorted squares"
   ]
  },
  {
   "cell_type": "code",
   "execution_count": 9,
   "id": "9fed8ecf-b8c0-4e90-88b2-0047fb14388f",
   "metadata": {},
   "outputs": [
    {
     "name": "stdout",
     "output_type": "stream",
     "text": [
      "[0, 1, 9, 16, 100]\n"
     ]
    }
   ],
   "source": [
    "def sortedSquares(nums):\n",
    "    left,right = 0, len(nums)-1\n",
    "    result = []\n",
    "    \n",
    "    while left <= right:\n",
    "        if abs(nums[left])>abs(nums[right]):\n",
    "            result.append(nums[left]**2)\n",
    "            left += 1\n",
    "        else:\n",
    "            result.append (nums[right] **2)\n",
    "            right -= 1\n",
    "            \n",
    "    return result[::-1]\n",
    "\n",
    "nums = [-4,-1,0,3,10]\n",
    "result = sortedSquares(nums)\n",
    "print(result)"
   ]
  },
  {
   "cell_type": "code",
   "execution_count": null,
   "id": "7563fdfa-6333-4de4-865f-872202b93ccd",
   "metadata": {},
   "outputs": [],
   "source": [
    "-Intialize an empty result list.\n",
    "-Use two pointers,'left' and 'right',,intially pointing to the start and end of the array 'nums'.\n",
    "-Compare the absolute values of 'nums[left]' and 'num[right]':\n",
    "    ~If 'abs (nums[left]) > abs (nums[right])' and append the result to the front of the result list.\n",
    "    ~Increment 'left' by 1 to move to the next element.\n",
    "    ~If 'abs (nums[left]) <= (nums[right])', square 'nums[right]' and append the result to the front of the result list.\n",
    "    ~Decrement 'right' by 1 to move to the previous element.\n",
    "-Repeat steps 3 and 4 until 'left' becomes greater than 'right'.\n",
    "-Reverse the result list to obtain the squared values in non-decreasing order.\n",
    "-Return the result list."
   ]
  },
  {
   "cell_type": "markdown",
   "id": "4dd2ba6c-bfe5-4436-815c-2966e167db15",
   "metadata": {},
   "source": [
    "## 7.max count"
   ]
  },
  {
   "cell_type": "code",
   "execution_count": 10,
   "id": "c9b6f70a-50c1-45d6-ae07-3b0f9c34f046",
   "metadata": {},
   "outputs": [
    {
     "name": "stdout",
     "output_type": "stream",
     "text": [
      "4\n"
     ]
    }
   ],
   "source": [
    "def maxCount(m,n,ops):\n",
    "    min_row = m\n",
    "    min_col = n\n",
    "    \n",
    "    for op in ops:\n",
    "        min_row = min(min_row, op[0])\n",
    "        min_col = min(min_col, op[1])\n",
    "        \n",
    "    return min_row * min_col\n",
    "\n",
    "m = 3\n",
    "n = 3\n",
    "ops = [[2,2],[3,3]]\n",
    "result = maxCount(m,n,ops)\n",
    "print(result)"
   ]
  },
  {
   "cell_type": "code",
   "execution_count": null,
   "id": "962ca7e1-5576-4162-b41f-e557f2fe85d1",
   "metadata": {},
   "outputs": [],
   "source": [
    "-Intialize 'min_count' and 'min_col' variables with 'm' and 'n', respectively.\n",
    "-Iterate through each operation '[ai,bi]' in 'ops':\n",
    "    ~Update 'min_row' to the minimum of 'min_row' and 'ai'.\n",
    "    ~Update 'min_col' to the minimum of 'min_col' and 'bi'.\n",
    "-Return the product of 'min_row' and 'min_col'."
   ]
  },
  {
   "cell_type": "markdown",
   "id": "afbde2b2-d7a6-437c-b517-2af50f3372b8",
   "metadata": {},
   "source": [
    "## 8.rear range array"
   ]
  },
  {
   "cell_type": "code",
   "execution_count": 11,
   "id": "5f42a489-de33-42d8-a84c-8406c44db289",
   "metadata": {},
   "outputs": [
    {
     "name": "stdout",
     "output_type": "stream",
     "text": [
      "[2, 3, 5, 4, 1, 7]\n"
     ]
    }
   ],
   "source": [
    "def rearrangeArray(nums,n):\n",
    "    result = []\n",
    "    for i in range(n):\n",
    "        result.append(nums[i])\n",
    "        result.append(nums[i+n])\n",
    "    return result\n",
    "\n",
    "nums = [2,5,1,3,4,7]\n",
    "n = 3 \n",
    "result = rearrangeArray(nums,n)\n",
    "print(result)"
   ]
  },
  {
   "cell_type": "code",
   "execution_count": null,
   "id": "4d79ed80-1698-44d0-9773-86e8b5999282",
   "metadata": {},
   "outputs": [],
   "source": [
    "-Create a new empty array 'result'.\n",
    "-Iterate 'i' over the range from 0 to 'n':\n",
    "    ~Append 'nums[i]' to 'result'.\n",
    "    ~Append 'nums[i+n]' to 'result'.\n",
    "-Return 'result'"
   ]
  }
 ],
 "metadata": {
  "kernelspec": {
   "display_name": "Python 3 (ipykernel)",
   "language": "python",
   "name": "python3"
  },
  "language_info": {
   "codemirror_mode": {
    "name": "ipython",
    "version": 3
   },
   "file_extension": ".py",
   "mimetype": "text/x-python",
   "name": "python",
   "nbconvert_exporter": "python",
   "pygments_lexer": "ipython3",
   "version": "3.10.8"
  }
 },
 "nbformat": 4,
 "nbformat_minor": 5
}
